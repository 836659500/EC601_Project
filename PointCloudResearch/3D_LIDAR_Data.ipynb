{
 "cells": [
  {
   "cell_type": "code",
   "execution_count": 1,
   "id": "409e3079",
   "metadata": {},
   "outputs": [
    {
     "name": "stdout",
     "output_type": "stream",
     "text": [
      "Collecting open3d==0.10.0\n",
      "  Downloading open3d-0.10.0.0-cp38-cp38-macosx_10_9_x86_64.whl (3.9 MB)\n",
      "\u001b[K     |████████████████████████████████| 3.9 MB 8.9 MB/s eta 0:00:01\n",
      "\u001b[?25hRequirement already satisfied: notebook in ./opt/anaconda3/lib/python3.8/site-packages (from open3d==0.10.0) (6.3.0)\n",
      "Requirement already satisfied: numpy in ./opt/anaconda3/lib/python3.8/site-packages (from open3d==0.10.0) (1.19.5)\n",
      "Requirement already satisfied: widgetsnbextension in ./opt/anaconda3/lib/python3.8/site-packages (from open3d==0.10.0) (3.5.1)\n",
      "Requirement already satisfied: matplotlib in ./opt/anaconda3/lib/python3.8/site-packages (from open3d==0.10.0) (3.3.4)\n",
      "Requirement already satisfied: ipywidgets in ./opt/anaconda3/lib/python3.8/site-packages (from open3d==0.10.0) (7.6.3)\n",
      "Requirement already satisfied: traitlets>=4.3.1 in ./opt/anaconda3/lib/python3.8/site-packages (from ipywidgets->open3d==0.10.0) (5.0.5)\n",
      "Requirement already satisfied: jupyterlab-widgets>=1.0.0 in ./opt/anaconda3/lib/python3.8/site-packages (from ipywidgets->open3d==0.10.0) (1.0.0)\n",
      "Requirement already satisfied: ipykernel>=4.5.1 in ./opt/anaconda3/lib/python3.8/site-packages (from ipywidgets->open3d==0.10.0) (5.3.4)\n",
      "Requirement already satisfied: nbformat>=4.2.0 in ./opt/anaconda3/lib/python3.8/site-packages (from ipywidgets->open3d==0.10.0) (5.1.3)\n",
      "Requirement already satisfied: ipython>=4.0.0 in ./opt/anaconda3/lib/python3.8/site-packages (from ipywidgets->open3d==0.10.0) (7.22.0)\n",
      "Requirement already satisfied: jupyter-client in ./opt/anaconda3/lib/python3.8/site-packages (from ipykernel>=4.5.1->ipywidgets->open3d==0.10.0) (6.1.12)\n",
      "Requirement already satisfied: appnope in ./opt/anaconda3/lib/python3.8/site-packages (from ipykernel>=4.5.1->ipywidgets->open3d==0.10.0) (0.1.2)\n",
      "Requirement already satisfied: tornado>=4.2 in ./opt/anaconda3/lib/python3.8/site-packages (from ipykernel>=4.5.1->ipywidgets->open3d==0.10.0) (6.1)\n",
      "Requirement already satisfied: backcall in ./opt/anaconda3/lib/python3.8/site-packages (from ipython>=4.0.0->ipywidgets->open3d==0.10.0) (0.2.0)\n",
      "Requirement already satisfied: setuptools>=18.5 in ./opt/anaconda3/lib/python3.8/site-packages (from ipython>=4.0.0->ipywidgets->open3d==0.10.0) (52.0.0.post20210125)\n",
      "Requirement already satisfied: jedi>=0.16 in ./opt/anaconda3/lib/python3.8/site-packages (from ipython>=4.0.0->ipywidgets->open3d==0.10.0) (0.17.2)\n",
      "Requirement already satisfied: prompt-toolkit!=3.0.0,!=3.0.1,<3.1.0,>=2.0.0 in ./opt/anaconda3/lib/python3.8/site-packages (from ipython>=4.0.0->ipywidgets->open3d==0.10.0) (3.0.17)\n",
      "Requirement already satisfied: decorator in ./opt/anaconda3/lib/python3.8/site-packages (from ipython>=4.0.0->ipywidgets->open3d==0.10.0) (5.0.6)\n",
      "Requirement already satisfied: pygments in ./opt/anaconda3/lib/python3.8/site-packages (from ipython>=4.0.0->ipywidgets->open3d==0.10.0) (2.8.1)\n",
      "Requirement already satisfied: pexpect>4.3 in ./opt/anaconda3/lib/python3.8/site-packages (from ipython>=4.0.0->ipywidgets->open3d==0.10.0) (4.8.0)\n",
      "Requirement already satisfied: pickleshare in ./opt/anaconda3/lib/python3.8/site-packages (from ipython>=4.0.0->ipywidgets->open3d==0.10.0) (0.7.5)\n",
      "Requirement already satisfied: parso<0.8.0,>=0.7.0 in ./opt/anaconda3/lib/python3.8/site-packages (from jedi>=0.16->ipython>=4.0.0->ipywidgets->open3d==0.10.0) (0.7.0)\n",
      "Requirement already satisfied: jsonschema!=2.5.0,>=2.4 in ./opt/anaconda3/lib/python3.8/site-packages (from nbformat>=4.2.0->ipywidgets->open3d==0.10.0) (3.2.0)\n",
      "Requirement already satisfied: jupyter-core in ./opt/anaconda3/lib/python3.8/site-packages (from nbformat>=4.2.0->ipywidgets->open3d==0.10.0) (4.7.1)\n",
      "Requirement already satisfied: ipython-genutils in ./opt/anaconda3/lib/python3.8/site-packages (from nbformat>=4.2.0->ipywidgets->open3d==0.10.0) (0.2.0)\n",
      "Requirement already satisfied: pyrsistent>=0.14.0 in ./opt/anaconda3/lib/python3.8/site-packages (from jsonschema!=2.5.0,>=2.4->nbformat>=4.2.0->ipywidgets->open3d==0.10.0) (0.17.3)\n",
      "Requirement already satisfied: six>=1.11.0 in ./opt/anaconda3/lib/python3.8/site-packages (from jsonschema!=2.5.0,>=2.4->nbformat>=4.2.0->ipywidgets->open3d==0.10.0) (1.15.0)\n",
      "Requirement already satisfied: attrs>=17.4.0 in ./opt/anaconda3/lib/python3.8/site-packages (from jsonschema!=2.5.0,>=2.4->nbformat>=4.2.0->ipywidgets->open3d==0.10.0) (20.3.0)\n",
      "Requirement already satisfied: ptyprocess>=0.5 in ./opt/anaconda3/lib/python3.8/site-packages (from pexpect>4.3->ipython>=4.0.0->ipywidgets->open3d==0.10.0) (0.7.0)\n",
      "Requirement already satisfied: wcwidth in ./opt/anaconda3/lib/python3.8/site-packages (from prompt-toolkit!=3.0.0,!=3.0.1,<3.1.0,>=2.0.0->ipython>=4.0.0->ipywidgets->open3d==0.10.0) (0.2.5)\n",
      "Requirement already satisfied: pyzmq>=17 in ./opt/anaconda3/lib/python3.8/site-packages (from notebook->open3d==0.10.0) (20.0.0)\n",
      "Requirement already satisfied: prometheus-client in ./opt/anaconda3/lib/python3.8/site-packages (from notebook->open3d==0.10.0) (0.10.1)\n",
      "Requirement already satisfied: Send2Trash>=1.5.0 in ./opt/anaconda3/lib/python3.8/site-packages (from notebook->open3d==0.10.0) (1.5.0)\n",
      "Requirement already satisfied: terminado>=0.8.3 in ./opt/anaconda3/lib/python3.8/site-packages (from notebook->open3d==0.10.0) (0.9.4)\n",
      "Requirement already satisfied: argon2-cffi in ./opt/anaconda3/lib/python3.8/site-packages (from notebook->open3d==0.10.0) (20.1.0)\n",
      "Requirement already satisfied: jinja2 in ./opt/anaconda3/lib/python3.8/site-packages (from notebook->open3d==0.10.0) (2.11.3)\n",
      "Requirement already satisfied: nbconvert in ./opt/anaconda3/lib/python3.8/site-packages (from notebook->open3d==0.10.0) (6.0.7)\n",
      "Requirement already satisfied: python-dateutil>=2.1 in ./opt/anaconda3/lib/python3.8/site-packages (from jupyter-client->ipykernel>=4.5.1->ipywidgets->open3d==0.10.0) (2.8.1)\n",
      "Requirement already satisfied: cffi>=1.0.0 in ./opt/anaconda3/lib/python3.8/site-packages (from argon2-cffi->notebook->open3d==0.10.0) (1.14.5)\n",
      "Requirement already satisfied: pycparser in ./opt/anaconda3/lib/python3.8/site-packages (from cffi>=1.0.0->argon2-cffi->notebook->open3d==0.10.0) (2.20)\n",
      "Requirement already satisfied: MarkupSafe>=0.23 in ./opt/anaconda3/lib/python3.8/site-packages (from jinja2->notebook->open3d==0.10.0) (1.1.1)\n",
      "Requirement already satisfied: cycler>=0.10 in ./opt/anaconda3/lib/python3.8/site-packages (from matplotlib->open3d==0.10.0) (0.10.0)\n",
      "Requirement already satisfied: kiwisolver>=1.0.1 in ./opt/anaconda3/lib/python3.8/site-packages (from matplotlib->open3d==0.10.0) (1.3.1)\n",
      "Requirement already satisfied: pyparsing!=2.0.4,!=2.1.2,!=2.1.6,>=2.0.3 in ./opt/anaconda3/lib/python3.8/site-packages (from matplotlib->open3d==0.10.0) (2.4.7)\n",
      "Requirement already satisfied: pillow>=6.2.0 in ./opt/anaconda3/lib/python3.8/site-packages (from matplotlib->open3d==0.10.0) (8.2.0)\n",
      "Requirement already satisfied: defusedxml in ./opt/anaconda3/lib/python3.8/site-packages (from nbconvert->notebook->open3d==0.10.0) (0.7.1)\n",
      "Requirement already satisfied: nbclient<0.6.0,>=0.5.0 in ./opt/anaconda3/lib/python3.8/site-packages (from nbconvert->notebook->open3d==0.10.0) (0.5.3)\n",
      "Requirement already satisfied: mistune<2,>=0.8.1 in ./opt/anaconda3/lib/python3.8/site-packages (from nbconvert->notebook->open3d==0.10.0) (0.8.4)\n",
      "Requirement already satisfied: pandocfilters>=1.4.1 in ./opt/anaconda3/lib/python3.8/site-packages (from nbconvert->notebook->open3d==0.10.0) (1.4.3)\n",
      "Requirement already satisfied: entrypoints>=0.2.2 in ./opt/anaconda3/lib/python3.8/site-packages (from nbconvert->notebook->open3d==0.10.0) (0.3)\n",
      "Requirement already satisfied: jupyterlab-pygments in ./opt/anaconda3/lib/python3.8/site-packages (from nbconvert->notebook->open3d==0.10.0) (0.1.2)\n",
      "Requirement already satisfied: bleach in ./opt/anaconda3/lib/python3.8/site-packages (from nbconvert->notebook->open3d==0.10.0) (3.3.0)\n",
      "Requirement already satisfied: testpath in ./opt/anaconda3/lib/python3.8/site-packages (from nbconvert->notebook->open3d==0.10.0) (0.4.4)\n",
      "Requirement already satisfied: nest-asyncio in ./opt/anaconda3/lib/python3.8/site-packages (from nbclient<0.6.0,>=0.5.0->nbconvert->notebook->open3d==0.10.0) (1.5.1)\n",
      "Requirement already satisfied: async-generator in ./opt/anaconda3/lib/python3.8/site-packages (from nbclient<0.6.0,>=0.5.0->nbconvert->notebook->open3d==0.10.0) (1.10)\n",
      "Requirement already satisfied: webencodings in ./opt/anaconda3/lib/python3.8/site-packages (from bleach->nbconvert->notebook->open3d==0.10.0) (0.5.1)\n",
      "Requirement already satisfied: packaging in ./opt/anaconda3/lib/python3.8/site-packages (from bleach->nbconvert->notebook->open3d==0.10.0) (20.9)\n",
      "Installing collected packages: open3d\n",
      "Successfully installed open3d-0.10.0.0\n",
      "Note: you may need to restart the kernel to use updated packages.\n"
     ]
    }
   ],
   "source": [
    "pip install open3d==0.10.0"
   ]
  },
  {
   "cell_type": "code",
   "execution_count": 1,
   "id": "1aa64819",
   "metadata": {},
   "outputs": [],
   "source": [
    "import numpy as np\n",
    "import time\n",
    "import open3d\n",
    "import pandas as pd\n",
    "import matplotlib.pyplot as plt\n",
    "\n",
    "## USE http://www.open3d.org/docs/release/tutorial/Basic/\n",
    "\n",
    "## CHALLENGE 1 - OPEN A FILE OF YOUR CHOICE AND VISUALIZE THE POINT CLOUD\n",
    "# The supported extension names are: pcd, ply, xyz, xyzrgb, xyzn, pts.\n",
    "pcd = open3d.io.read_point_cloud(\"/Users/GA/Downloads/tabletop_high_resolution/T-rex_high.pcd\")\n",
    "#print(np.asarray([pcd.points]))\n",
    "open3d.visualization.draw_geometries([pcd])"
   ]
  },
  {
   "cell_type": "code",
   "execution_count": 2,
   "id": "ddac69e4",
   "metadata": {},
   "outputs": [
    {
     "name": "stdout",
     "output_type": "stream",
     "text": [
      "[[[ -25.698986   -9.128601 -651.88208 ]\n",
      "  [ -25.157757   -9.142601 -651.891724]\n",
      "  [ -24.657757   -9.132828 -651.890564]\n",
      "  ...\n",
      "  [  -2.157757  -40.565598 -562.721008]\n",
      "  [  -1.657757  -40.565598 -562.788147]\n",
      "  [  -2.157757  -40.065598 -562.757935]]]\n"
     ]
    }
   ],
   "source": [
    "print(np.asarray([pcd.points]))"
   ]
  },
  {
   "cell_type": "code",
   "execution_count": 3,
   "id": "a84e799f",
   "metadata": {},
   "outputs": [
    {
     "name": "stdout",
     "output_type": "stream",
     "text": [
      "Points between downsampling: 176508 \n",
      "Points after downsampling: 175906\n"
     ]
    }
   ],
   "source": [
    "## CHALLENGE 2 - VOXEL GRID DOWNSAMPLING\n",
    "print(f\"Points between downsampling: {len(pcd.points)} \")\n",
    "downpcd=pcd.voxel_down_sample(voxel_size=0.2)\n",
    "\n",
    "print(f\"Points after downsampling: {len(downpcd.points)}\") \n",
    "open3d.visualization.draw_geometries([downpcd])"
   ]
  },
  {
   "cell_type": "code",
   "execution_count": 4,
   "id": "ea9dae7b",
   "metadata": {},
   "outputs": [
    {
     "name": "stdout",
     "output_type": "stream",
     "text": [
      "time_taken:5.330618143081665\n"
     ]
    }
   ],
   "source": [
    "## CHALLENGE 3 - SEGMENTATION\n",
    "t1=time.time()\n",
    "_, inliers = downpcd.segment_plane(distance_threshold=0.3,ransac_n=3,num_iterations=250)\n",
    "inlier_cloud=downpcd.select_by_index(inliers)\n",
    "outlier_cloud=downpcd.select_by_index(inliers,invert=True)\n",
    "inlier_cloud.paint_uniform_color([1,0,0])\n",
    "outlier_cloud.paint_uniform_color([0,0,1])\n",
    "open3d.visualization.draw_geometries([inlier_cloud,outlier_cloud])\n",
    "t2=time.time()\n",
    "print(f\"time_taken:{t2-t1}\")"
   ]
  },
  {
   "cell_type": "code",
   "execution_count": 5,
   "id": "f6475e79",
   "metadata": {},
   "outputs": [
    {
     "name": "stdout",
     "output_type": "stream",
     "text": [
      "[Open3D DEBUG] Precompute Neighbours\n",
      "[Open3D DEBUG] Done Precompute Neighbours\n",
      "[Open3D DEBUG] Compute Clusters\n",
      "[Open3D DEBUG] Done Compute Clusters: 304\n",
      "point cloud has 304 clusters\n"
     ]
    },
    {
     "ename": "RuntimeError",
     "evalue": "",
     "output_type": "error",
     "traceback": [
      "\u001b[0;31m---------------------------------------------------------------------------\u001b[0m",
      "\u001b[0;31mRuntimeError\u001b[0m                              Traceback (most recent call last)",
      "\u001b[0;32m<ipython-input-5-d5f7786ec9ea>\u001b[0m in \u001b[0;36m<module>\u001b[0;34m\u001b[0m\n\u001b[1;32m      7\u001b[0m \u001b[0mcolors\u001b[0m\u001b[0;34m=\u001b[0m\u001b[0mplt\u001b[0m\u001b[0;34m.\u001b[0m\u001b[0mget_cmap\u001b[0m\u001b[0;34m(\u001b[0m\u001b[0;34m\"tab20\"\u001b[0m\u001b[0;34m)\u001b[0m\u001b[0;34m(\u001b[0m\u001b[0mlabels\u001b[0m \u001b[0;34m/\u001b[0m \u001b[0;34m(\u001b[0m\u001b[0mmax_label\u001b[0m \u001b[0;32mif\u001b[0m \u001b[0mmax_label\u001b[0m \u001b[0;34m>\u001b[0m \u001b[0;36m0\u001b[0m \u001b[0;32melse\u001b[0m \u001b[0;36m1\u001b[0m\u001b[0;34m)\u001b[0m\u001b[0;34m)\u001b[0m\u001b[0;34m\u001b[0m\u001b[0;34m\u001b[0m\u001b[0m\n\u001b[1;32m      8\u001b[0m \u001b[0mcolors\u001b[0m\u001b[0;34m[\u001b[0m\u001b[0mlabels\u001b[0m \u001b[0;34m<\u001b[0m \u001b[0;36m0\u001b[0m\u001b[0;34m]\u001b[0m \u001b[0;34m=\u001b[0m \u001b[0;36m0\u001b[0m\u001b[0;34m\u001b[0m\u001b[0;34m\u001b[0m\u001b[0m\n\u001b[0;32m----> 9\u001b[0;31m \u001b[0moutlier_cloud\u001b[0m\u001b[0;34m.\u001b[0m\u001b[0mcolors\u001b[0m\u001b[0;34m=\u001b[0m\u001b[0mopen3d\u001b[0m\u001b[0;34m.\u001b[0m\u001b[0mutility\u001b[0m\u001b[0;34m.\u001b[0m\u001b[0mVector2dVector\u001b[0m\u001b[0;34m(\u001b[0m\u001b[0mcolors\u001b[0m\u001b[0;34m[\u001b[0m\u001b[0;34m:\u001b[0m\u001b[0;34m,\u001b[0m\u001b[0;34m:\u001b[0m\u001b[0;36m3\u001b[0m\u001b[0;34m]\u001b[0m\u001b[0;34m)\u001b[0m\u001b[0;34m\u001b[0m\u001b[0;34m\u001b[0m\u001b[0m\n\u001b[0m\u001b[1;32m     10\u001b[0m \u001b[0mopen3d\u001b[0m\u001b[0;34m.\u001b[0m\u001b[0mvisualization\u001b[0m\u001b[0;34m.\u001b[0m\u001b[0mdraw_geometries\u001b[0m\u001b[0;34m(\u001b[0m\u001b[0;34m[\u001b[0m\u001b[0moutlier_cloud\u001b[0m\u001b[0;34m]\u001b[0m\u001b[0;34m)\u001b[0m\u001b[0;34m\u001b[0m\u001b[0;34m\u001b[0m\u001b[0m\n",
      "\u001b[0;31mRuntimeError\u001b[0m: "
     ]
    }
   ],
   "source": [
    "# CHALLENGE 4 - CLUSTERING USING DBSCAN\n",
    "with open3d.utility.VerbosityContextManager(open3d.utility.VerbosityLevel.Debug) as cm:\n",
    "    labels = np.array(outlier_cloud.cluster_dbscan(eps=0.5,min_points=5,print_progress=True))\n",
    "\n",
    "max_label=labels.max()\n",
    "print(f\"point cloud has {max_label+1} clusters\")\n",
    "colors=plt.get_cmap(\"tab20\")(labels / (max_label if max_label > 0 else 1))\n",
    "colors[labels < 0] = 0\n",
    "outlier_cloud.colors=open3d.utility.Vector2dVector(colors[:,:3])\n",
    "open3d.visualization.draw_geometries([outlier_cloud])"
   ]
  },
  {
   "cell_type": "code",
   "execution_count": 6,
   "id": "3b224228",
   "metadata": {},
   "outputs": [
    {
     "name": "stdout",
     "output_type": "stream",
     "text": [
      "Paint the 15th point red.\n",
      "Find its 20 nearest neighbors, paint blue.\n"
     ]
    }
   ],
   "source": [
    "# BONUS CHALLENGE - CLUSTERING USING KDTREE AND KNN INSTEAD\n",
    "pcd_tree = open3d.geometry.KDTreeFlann(outlier_cloud)\n",
    "print(\"Paint the 15th point red.\")\n",
    "outlier_cloud.colors[15] = [1,0,0]\n",
    "print(\"Find its 20 nearest neighbors, paint blue.\")\n",
    "[k,idx,_] = pcd_tree.search_knn_vector_3d(outlier_cloud.points[15],20)\n",
    "np.asarray(outlier_cloud.colors)[idx[1:],:]=[0,0,1]\n",
    "open3d.visualization.draw_geometries([outlier_cloud])"
   ]
  },
  {
   "cell_type": "code",
   "execution_count": 7,
   "id": "5783580b",
   "metadata": {},
   "outputs": [],
   "source": [
    "# CHALLENGE 5 - BOUNDING BOXES IN 3D\n",
    "obbs=[]\n",
    "indexes=pd.Series(range(len(labels))).groupby(labels,sort=False).apply(list).tolist()"
   ]
  },
  {
   "cell_type": "code",
   "execution_count": 8,
   "id": "69d86c89",
   "metadata": {},
   "outputs": [],
   "source": [
    "Max_Points = 1000\n",
    "Min_Points = 20\n",
    "clusters=[]\n",
    "for i in range(0,len(indexes)):\n",
    "    nb_pts=len(outlier_cloud.select_by_index(indexes[i]).points)\n",
    "    if (nb_pts>Min_Points and nb_pts<Max_Points):\n",
    "        sub_cloud=outlier_cloud.select_by_index(indexes[i])\n",
    "        #clusters.append(sub_cloud)\n",
    "        #print(np.asarray([sub_cloud.points]))\n",
    "        obb=sub_cloud.get_axis_aligned_bounding_box()\n",
    "        obb.color=(0,0,1)\n",
    "        obbs.append(obb)"
   ]
  },
  {
   "cell_type": "code",
   "execution_count": null,
   "id": "835bf5be",
   "metadata": {},
   "outputs": [],
   "source": [
    "list_of_visuals=[]\n",
    "list_of_visuals.append(outlier_cloud)\n",
    "list_of_visuals.extend(obbs)\n",
    "list_of_visuals.append(inlier_cloud)\n",
    "open3d.visualization.draw_geometries(list_of_visuals)"
   ]
  },
  {
   "cell_type": "code",
   "execution_count": null,
   "id": "148a1c50",
   "metadata": {},
   "outputs": [],
   "source": [
    "print(len(list_of_visuals))\n",
    "print(np.asarray([clusters]))"
   ]
  },
  {
   "cell_type": "code",
   "execution_count": null,
   "id": "7dcfc6b3",
   "metadata": {},
   "outputs": [],
   "source": []
  }
 ],
 "metadata": {
  "kernelspec": {
   "display_name": "Python 3",
   "language": "python",
   "name": "python3"
  },
  "language_info": {
   "codemirror_mode": {
    "name": "ipython",
    "version": 3
   },
   "file_extension": ".py",
   "mimetype": "text/x-python",
   "name": "python",
   "nbconvert_exporter": "python",
   "pygments_lexer": "ipython3",
   "version": "3.8.8"
  }
 },
 "nbformat": 4,
 "nbformat_minor": 5
}
